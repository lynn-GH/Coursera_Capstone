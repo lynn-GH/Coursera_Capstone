{
 "cells": [
  {
   "cell_type": "markdown",
   "metadata": {},
   "source": [
    "<h1 align=center><font size = 6>Coursera Capstone Project</font></h1>"
   ]
  },
  {
   "cell_type": "markdown",
   "metadata": {},
   "source": [
    "## Introduction\n",
    "<font color=blue>Besides coffee, milk tea becomes a popular beverage now. We plan to open a tea shop in San Diego, CA. There are many neighborhoods in San Diego city and the retail rental price varies among them.  So first we need to look for some neighborhoods already have good restaurants or cafes people like to go, second, the rental price should not be very high which might be over our budget.\n",
    "\n",
    "    In this project,\n",
    "        Step 1: Scrape San Diego neighborhoods and rental market data from website\n",
    "        Step 2: Obtain the geographical data of each neighborhood\n",
    "        Step 3: Get the popular venues with Foursquare API\n",
    "        Step 4: Use K-means to cluster the neighborhoods based on the venues and average rental price\n",
    "        Step 5: Provide a discussion based on the clustering results\n",
    "</font>"
   ]
  },
  {
   "cell_type": "markdown",
   "metadata": {},
   "source": [
    "## Table of Contents\n",
    "- [1. Download and Explore Dataset](#id-section1)\n",
    "- [2. Explore Neighborhoods in San Diego City](#id-section2)\n",
    "- [3. Analyze Each Neighborhood](#id-section3)\n",
    "- [4. Cluster Neighborhoods](#id-section4)\n",
    "- [5. Examine Clusters](#id-section5)\n",
    "- [6. Discussion](#id-section6)\n"
   ]
  },
  {
   "cell_type": "markdown",
   "metadata": {},
   "source": [
    "<div id=\"id-section1\"> <font size=\"6\"><b>1.Download and Explore Dataset</b></font></div>"
   ]
  },
  {
   "cell_type": "markdown",
   "metadata": {},
   "source": [
    "#### Scraping an html to get the list of neighborhoods and the average rental price in San Diego"
   ]
  },
  {
   "cell_type": "code",
   "execution_count": 1,
   "metadata": {},
   "outputs": [
    {
     "name": "stdout",
     "output_type": "stream",
     "text": [
      "Collecting BeautifulSoup4\n",
      "\u001b[?25l  Downloading https://files.pythonhosted.org/packages/66/25/ff030e2437265616a1e9b25ccc864e0371a0bc3adb7c5a404fd661c6f4f6/beautifulsoup4-4.9.1-py3-none-any.whl (115kB)\n",
      "\u001b[K     |████████████████████████████████| 122kB 5.1MB/s eta 0:00:01\n",
      "\u001b[?25hCollecting soupsieve>1.2 (from BeautifulSoup4)\n",
      "  Downloading https://files.pythonhosted.org/packages/6f/8f/457f4a5390eeae1cc3aeab89deb7724c965be841ffca6cfca9197482e470/soupsieve-2.0.1-py3-none-any.whl\n",
      "Installing collected packages: soupsieve, BeautifulSoup4\n",
      "Successfully installed BeautifulSoup4-4.9.1 soupsieve-2.0.1\n",
      "Collecting package metadata (current_repodata.json): done\n",
      "Solving environment: done\n",
      "\n",
      "## Package Plan ##\n",
      "\n",
      "  environment location: /home/jupyterlab/conda/envs/python\n",
      "\n",
      "  added / updated specs:\n",
      "    - geopy\n",
      "\n",
      "\n",
      "The following packages will be downloaded:\n",
      "\n",
      "    package                    |            build\n",
      "    ---------------------------|-----------------\n",
      "    geographiclib-1.50         |             py_0          34 KB  conda-forge\n",
      "    geopy-2.0.0                |     pyh9f0ad1d_0          63 KB  conda-forge\n",
      "    ------------------------------------------------------------\n",
      "                                           Total:          97 KB\n",
      "\n",
      "The following NEW packages will be INSTALLED:\n",
      "\n",
      "  geographiclib      conda-forge/noarch::geographiclib-1.50-py_0\n",
      "  geopy              conda-forge/noarch::geopy-2.0.0-pyh9f0ad1d_0\n",
      "\n",
      "\n",
      "\n",
      "Downloading and Extracting Packages\n",
      "geopy-2.0.0          | 63 KB     | ##################################### | 100% \n",
      "geographiclib-1.50   | 34 KB     | ##################################### | 100% \n",
      "Preparing transaction: done\n",
      "Verifying transaction: done\n",
      "Executing transaction: done\n",
      "Libraries imported.\n"
     ]
    }
   ],
   "source": [
    "!pip install BeautifulSoup4\n",
    "from bs4 import BeautifulSoup\n",
    "import requests # library to handle requests\n",
    "import urllib.request\n",
    "\n",
    "import pandas as pd #library for data analysis\n",
    "import numpy as np # library to handle data in a vectorized manner\n",
    "\n",
    "pd.set_option('display.max_columns', None)\n",
    "pd.set_option('display.max_rows', None)\n",
    "\n",
    "import json # library to handle JSON files\n",
    "from pandas.io.json import json_normalize # tranform JSON file into a pandas dataframe\n",
    "\n",
    "!conda install -c conda-forge geopy --yes # uncomment this line if you haven't completed the Foursquare API lab\n",
    "from geopy.geocoders import Nominatim # convert an address into latitude and longitude values\n",
    "\n",
    "# Matplotlib and associated plotting modules\n",
    "import matplotlib.pyplot as plt\n",
    "import matplotlib.cm as cm\n",
    "import matplotlib.colors as colors\n",
    "\n",
    "# import k-means from clustering stage\n",
    "from sklearn.cluster import KMeans\n",
    "\n",
    "#!conda install -c conda-forge folium=0.5.0 --yes # uncomment this line if you haven't completed the Foursquare API lab\n",
    "import folium # map rendering library\n",
    "\n",
    "print('Libraries imported.')"
   ]
  },
  {
   "cell_type": "code",
   "execution_count": 2,
   "metadata": {},
   "outputs": [],
   "source": [
    "# I don't use this website anymore, but another having Average Rent prices of each neighborhood in San Diego\n",
    "# url = 'https://en.wikipedia.org/wiki/List_of_communities_and_neighborhoods_of_San_Diego'\n",
    "# response = requests.get(url)\n",
    "# soup = BeautifulSoup(response.content, 'html.parser')\n",
    "# div = soup.find(\"div\", {\"aria-labelledby\":\"Neighborhoods_of_San_Diego\"})\n",
    "# results = [li.text for li in div.findAll('li')]"
   ]
  },
  {
   "cell_type": "code",
   "execution_count": 3,
   "metadata": {},
   "outputs": [],
   "source": [
    "url = 'https://www.rentcafe.com/average-rent-market-trends/us/ca/san-diego/'\n",
    "response = requests.get(url)\n",
    "soup = BeautifulSoup(response.content, 'html.parser')\n",
    "div = soup.find(\"div\", {\"class\":\"table-neighborhood\"})"
   ]
  },
  {
   "cell_type": "code",
   "execution_count": 4,
   "metadata": {},
   "outputs": [],
   "source": [
    "column_names = ['Neighborhoods','AverageRent']\n",
    "df = pd.DataFrame(columns = column_names)"
   ]
  },
  {
   "cell_type": "code",
   "execution_count": 5,
   "metadata": {},
   "outputs": [],
   "source": [
    "table = div.find(\"table\", {\"id\":\"MarketTrendsAverageRentTable\"})\n",
    "row = table.findAll(\"tr\", {\"class\":\"current-row\"})\n",
    "row_marker = 0\n",
    "for row in table.findAll(\"tr\", {\"class\":\"current-row\"}):\n",
    "    df.at[row_marker, 'Neighborhoods'] = row.find('th').text\n",
    "    df.at[row_marker, 'AverageRent'] = row.find('td').text\n",
    "    row_marker += 1"
   ]
  },
  {
   "cell_type": "code",
   "execution_count": 6,
   "metadata": {},
   "outputs": [],
   "source": [
    "df['AverageRent']=df['AverageRent'].map(lambda x: x.lstrip('$'))\n",
    "df['AverageRent']=df['AverageRent'].str.replace(',','')\n",
    "df['AverageRent']=pd.to_numeric(df['AverageRent'], downcast='float')"
   ]
  },
  {
   "cell_type": "code",
   "execution_count": 7,
   "metadata": {},
   "outputs": [],
   "source": [
    "df.loc[df['Neighborhoods'] == 'Clairemont Mesa West', ['Neighborhoods']] = 'Clairemont Mesa'"
   ]
  },
  {
   "cell_type": "code",
   "execution_count": 8,
   "metadata": {},
   "outputs": [],
   "source": [
    "df.sort_values(by='Neighborhoods',inplace=True)"
   ]
  },
  {
   "cell_type": "code",
   "execution_count": 9,
   "metadata": {},
   "outputs": [],
   "source": [
    "sd_df = df.reset_index(drop=True)"
   ]
  },
  {
   "cell_type": "code",
   "execution_count": 10,
   "metadata": {},
   "outputs": [
    {
     "name": "stdout",
     "output_type": "stream",
     "text": [
      "There are 122 neighborhoods in San Diego\n"
     ]
    }
   ],
   "source": [
    "print(\"There are \" + str(sd_df.shape[0]) + \" neighborhoods in San Diego\")"
   ]
  },
  {
   "cell_type": "code",
   "execution_count": 11,
   "metadata": {},
   "outputs": [],
   "source": [
    "#add two columns for Latitude and Longitude\n",
    "sd_df['Latitude']=''\n",
    "sd_df['Longitude']=''"
   ]
  },
  {
   "cell_type": "code",
   "execution_count": 12,
   "metadata": {},
   "outputs": [
    {
     "data": {
      "text/html": [
       "<div>\n",
       "<style scoped>\n",
       "    .dataframe tbody tr th:only-of-type {\n",
       "        vertical-align: middle;\n",
       "    }\n",
       "\n",
       "    .dataframe tbody tr th {\n",
       "        vertical-align: top;\n",
       "    }\n",
       "\n",
       "    .dataframe thead th {\n",
       "        text-align: right;\n",
       "    }\n",
       "</style>\n",
       "<table border=\"1\" class=\"dataframe\">\n",
       "  <thead>\n",
       "    <tr style=\"text-align: right;\">\n",
       "      <th></th>\n",
       "      <th>Neighborhoods</th>\n",
       "      <th>AverageRent</th>\n",
       "      <th>Latitude</th>\n",
       "      <th>Longitude</th>\n",
       "    </tr>\n",
       "  </thead>\n",
       "  <tbody>\n",
       "    <tr>\n",
       "      <th>0</th>\n",
       "      <td>4S Ranch</td>\n",
       "      <td>2261.0</td>\n",
       "      <td></td>\n",
       "      <td></td>\n",
       "    </tr>\n",
       "    <tr>\n",
       "      <th>1</th>\n",
       "      <td>Allied Gardens</td>\n",
       "      <td>2105.0</td>\n",
       "      <td></td>\n",
       "      <td></td>\n",
       "    </tr>\n",
       "    <tr>\n",
       "      <th>2</th>\n",
       "      <td>Alta Vista</td>\n",
       "      <td>975.0</td>\n",
       "      <td></td>\n",
       "      <td></td>\n",
       "    </tr>\n",
       "    <tr>\n",
       "      <th>3</th>\n",
       "      <td>Alvarado Estates</td>\n",
       "      <td>1946.0</td>\n",
       "      <td></td>\n",
       "      <td></td>\n",
       "    </tr>\n",
       "    <tr>\n",
       "      <th>4</th>\n",
       "      <td>Azalea - Hollywood Park</td>\n",
       "      <td>1619.0</td>\n",
       "      <td></td>\n",
       "      <td></td>\n",
       "    </tr>\n",
       "  </tbody>\n",
       "</table>\n",
       "</div>"
      ],
      "text/plain": [
       "             Neighborhoods  AverageRent Latitude Longitude\n",
       "0                 4S Ranch       2261.0                   \n",
       "1           Allied Gardens       2105.0                   \n",
       "2               Alta Vista        975.0                   \n",
       "3         Alvarado Estates       1946.0                   \n",
       "4  Azalea - Hollywood Park       1619.0                   "
      ]
     },
     "execution_count": 12,
     "metadata": {},
     "output_type": "execute_result"
    }
   ],
   "source": [
    "sd_df.head()"
   ]
  },
  {
   "cell_type": "code",
   "execution_count": 13,
   "metadata": {},
   "outputs": [],
   "source": [
    "#geocoder.google doesn't work, no return\n",
    "#!pip install geocoder\n",
    "#import geocoder\n",
    "#lat_lng_coords = None\n",
    "#while (lat_lng_coords is None):\n",
    "#    g = geocoder.google('San Diego, CA')\n",
    "#    lat_lng_coords = g.latlng\n",
    "\n",
    "#latitude=lat_lng_coords[0]\n",
    "#longitude=lat_lng_coords[1]"
   ]
  },
  {
   "cell_type": "code",
   "execution_count": 14,
   "metadata": {},
   "outputs": [],
   "source": [
    "suffix = ', San Diego, CA'\n",
    "row_marker = 0\n",
    "for nghb in sd_df['Neighborhoods']:\n",
    "    address = nghb + suffix\n",
    "    geolocator = Nominatim(user_agent='SD_explorer')\n",
    "    location = geolocator.geocode(address)\n",
    "    if location != None:\n",
    "        sd_df.at[row_marker, 'Latitude'] = location.latitude\n",
    "        sd_df.at[row_marker, 'Longitude'] = location.longitude\n",
    "    else:\n",
    "        sd_df.at[row_marker, 'Latitude'] = None\n",
    "        sd_df.at[row_marker, 'Longitude'] = None\n",
    "    row_marker += 1\n"
   ]
  },
  {
   "cell_type": "code",
   "execution_count": 15,
   "metadata": {},
   "outputs": [
    {
     "data": {
      "text/plain": [
       "Neighborhoods     object\n",
       "AverageRent      float32\n",
       "Latitude         float32\n",
       "Longitude        float32\n",
       "dtype: object"
      ]
     },
     "execution_count": 15,
     "metadata": {},
     "output_type": "execute_result"
    }
   ],
   "source": [
    "sd_df['Latitude']=pd.to_numeric(sd_df['Latitude'], downcast='float')\n",
    "sd_df['Longitude']=pd.to_numeric(sd_df['Longitude'], downcast='float')\n",
    "sd_df.dtypes"
   ]
  },
  {
   "cell_type": "code",
   "execution_count": 16,
   "metadata": {},
   "outputs": [
    {
     "name": "stdout",
     "output_type": "stream",
     "text": [
      "There are 25 neighborhoods without Latitude and Longitude value returned\n"
     ]
    }
   ],
   "source": [
    "nan_returns = sd_df['Latitude'].isnull().sum(axis = 0)\n",
    "print(\"There are {} neighborhoods without Latitude and Longitude value returned\".format(nan_returns))"
   ]
  },
  {
   "cell_type": "code",
   "execution_count": 17,
   "metadata": {},
   "outputs": [
    {
     "data": {
      "text/html": [
       "<div>\n",
       "<style scoped>\n",
       "    .dataframe tbody tr th:only-of-type {\n",
       "        vertical-align: middle;\n",
       "    }\n",
       "\n",
       "    .dataframe tbody tr th {\n",
       "        vertical-align: top;\n",
       "    }\n",
       "\n",
       "    .dataframe thead th {\n",
       "        text-align: right;\n",
       "    }\n",
       "</style>\n",
       "<table border=\"1\" class=\"dataframe\">\n",
       "  <thead>\n",
       "    <tr style=\"text-align: right;\">\n",
       "      <th></th>\n",
       "      <th>Neighborhoods</th>\n",
       "      <th>AverageRent</th>\n",
       "      <th>Latitude</th>\n",
       "      <th>Longitude</th>\n",
       "    </tr>\n",
       "  </thead>\n",
       "  <tbody>\n",
       "    <tr>\n",
       "      <th>0</th>\n",
       "      <td>4S Ranch</td>\n",
       "      <td>2261.0</td>\n",
       "      <td>NaN</td>\n",
       "      <td>NaN</td>\n",
       "    </tr>\n",
       "    <tr>\n",
       "      <th>1</th>\n",
       "      <td>Allied Gardens</td>\n",
       "      <td>2105.0</td>\n",
       "      <td>32.792686</td>\n",
       "      <td>-117.080437</td>\n",
       "    </tr>\n",
       "    <tr>\n",
       "      <th>2</th>\n",
       "      <td>Alta Vista</td>\n",
       "      <td>975.0</td>\n",
       "      <td>32.693340</td>\n",
       "      <td>-117.063156</td>\n",
       "    </tr>\n",
       "    <tr>\n",
       "      <th>3</th>\n",
       "      <td>Alvarado Estates</td>\n",
       "      <td>1946.0</td>\n",
       "      <td>32.774399</td>\n",
       "      <td>-117.091347</td>\n",
       "    </tr>\n",
       "    <tr>\n",
       "      <th>4</th>\n",
       "      <td>Azalea - Hollywood Park</td>\n",
       "      <td>1619.0</td>\n",
       "      <td>33.368637</td>\n",
       "      <td>-117.175911</td>\n",
       "    </tr>\n",
       "  </tbody>\n",
       "</table>\n",
       "</div>"
      ],
      "text/plain": [
       "             Neighborhoods  AverageRent   Latitude   Longitude\n",
       "0                 4S Ranch       2261.0        NaN         NaN\n",
       "1           Allied Gardens       2105.0  32.792686 -117.080437\n",
       "2               Alta Vista        975.0  32.693340 -117.063156\n",
       "3         Alvarado Estates       1946.0  32.774399 -117.091347\n",
       "4  Azalea - Hollywood Park       1619.0  33.368637 -117.175911"
      ]
     },
     "execution_count": 17,
     "metadata": {},
     "output_type": "execute_result"
    }
   ],
   "source": [
    "sd_df.head()"
   ]
  },
  {
   "cell_type": "markdown",
   "metadata": {},
   "source": [
    "<font>Not all neighborhoods' geographical parameters can be obtained, so I will try different name for those neighborhoods and delete those that I can't get the latitude and longitude at the end</font>"
   ]
  },
  {
   "cell_type": "code",
   "execution_count": 18,
   "metadata": {},
   "outputs": [
    {
     "data": {
      "text/plain": [
       "(97, 4)"
      ]
     },
     "execution_count": 18,
     "metadata": {},
     "output_type": "execute_result"
    }
   ],
   "source": [
    "#drop the neighborhoods without latitude and longitude\n",
    "sd_df=sd_df.dropna()\n",
    "sd_df=sd_df.reset_index(drop=True)\n",
    "sd_df.shape"
   ]
  },
  {
   "cell_type": "code",
   "execution_count": 19,
   "metadata": {},
   "outputs": [],
   "source": [
    "#sd_df.loc[sd_df['Neighborhood'] == 'Clairemont Mesa']"
   ]
  },
  {
   "cell_type": "markdown",
   "metadata": {},
   "source": [
    "<font>Till now, I already have the clean dataset for exploring and cluster later.</font>"
   ]
  },
  {
   "cell_type": "markdown",
   "metadata": {},
   "source": [
    "#### Create a map of San Diego with neighborhoods superimposed on top."
   ]
  },
  {
   "cell_type": "code",
   "execution_count": 20,
   "metadata": {
    "collapsed": false,
    "jupyter": {
     "outputs_hidden": false
    }
   },
   "outputs": [
    {
     "data": {
      "text/html": [
       "<div style=\"width:100%;\"><div style=\"position:relative;width:100%;height:0;padding-bottom:60%;\"><span style=\"color:#565656\">Make this Notebook Trusted to load map: File -> Trust Notebook</span><iframe src=\"about:blank\" style=\"position:absolute;width:100%;height:100%;left:0;top:0;border:none !important;\" data-html=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 onload=\"this.contentDocument.open();this.contentDocument.write(atob(this.getAttribute('data-html')));this.contentDocument.close();\" allowfullscreen webkitallowfullscreen mozallowfullscreen></iframe></div></div>"
      ],
      "text/plain": [
       "<folium.folium.Map at 0x7f2ab80fbcc0>"
      ]
     },
     "execution_count": 20,
     "metadata": {},
     "output_type": "execute_result"
    }
   ],
   "source": [
    "# create map of San Diego using latitude and longitude values\n",
    "address = 'San Diego, CA'\n",
    "geolocator = Nominatim(user_agent='SD_explorer')\n",
    "location = geolocator.geocode(address)\n",
    "latitude = location.latitude\n",
    "longitude = location.longitude\n",
    "\n",
    "map_sandiego = folium.Map(location=[latitude, longitude], zoom_start=10)\n",
    "\n",
    "# add markers to map\n",
    "for lat, lng, nghbd in zip(sd_df['Latitude'], sd_df['Longitude'], sd_df['Neighborhoods']):\n",
    "    label = '{}'.format(nghbd)\n",
    "    label = folium.Popup(label, parse_html=True)\n",
    "    folium.CircleMarker(\n",
    "        [lat, lng],\n",
    "        radius=3,\n",
    "        popup=label,\n",
    "        color='blue',\n",
    "        fill=True,\n",
    "        fill_color='#3186cc',\n",
    "        fill_opacity=0.7,\n",
    "        parse_html=False).add_to(map_sandiego)  \n",
    "    \n",
    "map_sandiego"
   ]
  },
  {
   "cell_type": "markdown",
   "metadata": {},
   "source": [
    "<div id=\"id-section2\"> <font size=\"6\"><b>2. Explore Neighborhoods in San Diego</b></font></div>"
   ]
  },
  {
   "cell_type": "markdown",
   "metadata": {},
   "source": [
    "#### Define Foursquare Credentials and Version"
   ]
  },
  {
   "cell_type": "code",
   "execution_count": 21,
   "metadata": {
    "collapsed": false,
    "jupyter": {
     "outputs_hidden": false
    }
   },
   "outputs": [
    {
     "name": "stdout",
     "output_type": "stream",
     "text": [
      "Your credentails:\n",
      "CLIENT_ID: SCIUXMLEPZJKICI1VOHG3TKUYIHTGO13DUBN3HB1NQIT40MH\n",
      "CLIENT_SECRET:5GEFSDBCOLVV2ZETXFOTAY5M4AHMBPFV0CINCL1HJ5MP1XL4\n"
     ]
    }
   ],
   "source": [
    "CLIENT_ID = 'SCIUXMLEPZJKICI1VOHG3TKUYIHTGO13DUBN3HB1NQIT40MH' # your Foursquare ID\n",
    "CLIENT_SECRET = '5GEFSDBCOLVV2ZETXFOTAY5M4AHMBPFV0CINCL1HJ5MP1XL4' # your Foursquare Secret\n",
    "VERSION = '20200625' # Foursquare API version\n",
    "\n",
    "print('Your credentails:')\n",
    "print('CLIENT_ID: ' + CLIENT_ID)\n",
    "print('CLIENT_SECRET:' + CLIENT_SECRET)"
   ]
  },
  {
   "cell_type": "markdown",
   "metadata": {},
   "source": [
    "#### Create a function to repeat the same process to all the neighborhoods in San Diego"
   ]
  },
  {
   "cell_type": "code",
   "execution_count": 22,
   "metadata": {},
   "outputs": [],
   "source": [
    "def getNearbyVenues(names, latitudes, longitudes, radius):\n",
    "    LIMIT = 100\n",
    "    venues_list = []\n",
    "    for name, lat, lng in zip(names, latitudes, longitudes):\n",
    "        print(name)\n",
    "            \n",
    "        # create the API request URL\n",
    "        url = 'https://api.foursquare.com/v2/venues/explore?&client_id={}&client_secret={}&v={}&ll={},{}&radius={}&limit={}'.format(\n",
    "            CLIENT_ID, \n",
    "            CLIENT_SECRET, \n",
    "            VERSION, \n",
    "            lat, \n",
    "            lng, \n",
    "            radius, \n",
    "            LIMIT)\n",
    "            \n",
    "        # make the GET request\n",
    "        results = requests.get(url).json()[\"response\"]['groups'][0]['items']\n",
    "               \n",
    "        # return only relevant information for each nearby venue\n",
    "        venues_list.append([(\n",
    "            name, \n",
    "            lat, \n",
    "            lng, \n",
    "            v['venue']['name'], \n",
    "            v['venue']['location']['lat'], \n",
    "            v['venue']['location']['lng'],  \n",
    "            v['venue']['categories'][0]['name']) for v in results])\n",
    "        \n",
    "\n",
    "    nearby_venues = pd.DataFrame([item for venue_list in venues_list for item in venue_list])\n",
    "    nearby_venues.columns = ['Neighborhoods', \n",
    "                  'Neighborhood Latitude', \n",
    "                  'Neighborhood Longitude', \n",
    "                  'Venue', \n",
    "                  'Venue Latitude', \n",
    "                  'Venue Longitude', \n",
    "                  'Venue Category']\n",
    "    \n",
    "    return(nearby_venues)"
   ]
  },
  {
   "cell_type": "markdown",
   "metadata": {},
   "source": [
    "#### Now run the above function on each neighborhood and create a new dataframe called *sd_venues*."
   ]
  },
  {
   "cell_type": "code",
   "execution_count": null,
   "metadata": {
    "collapsed": false,
    "jupyter": {
     "outputs_hidden": false
    },
    "scrolled": true
   },
   "outputs": [
    {
     "name": "stdout",
     "output_type": "stream",
     "text": [
      "Allied Gardens\n",
      "Alta Vista\n",
      "Alvarado Estates\n",
      "Azalea - Hollywood Park\n",
      "Balboa Park\n",
      "Bankers Hill - Park West\n",
      "Barrio Logan\n",
      "Bay Park\n",
      "Bay Terraces\n",
      "Birdland\n",
      "Black Mountain Ranch\n",
      "Broadway Heights\n",
      "Burlingame\n",
      "Carmel Mountain\n",
      "Carmel Valley\n",
      "Castle\n",
      "Cherokee Point\n",
      "Chollas Creek\n",
      "Chollas View\n",
      "Clairemont Mesa\n",
      "Corridor\n",
      "Cortez\n",
      "Del Cerro\n",
      "East Village\n",
      "El Cerrito\n",
      "Emerald Hills\n",
      "Encanto\n",
      "Fairmount Village\n",
      "Fleet Ridge\n",
      "Fox Canyon\n",
      "Gaslamp\n",
      "Golden Hill\n",
      "Grant Hill\n",
      "Grantville\n",
      "Harborview\n",
      "Hillcrest\n",
      "Horton Plaza\n",
      "Islenair\n",
      "Jamacha Lomita\n",
      "Kearny Mesa\n",
      "La Playa\n",
      "Lincoln Park\n",
      "Linda Vista\n",
      "Little Italy\n",
      "Logan Heights\n",
      "Loma Portal\n",
      "Marina\n",
      "Midway\n",
      "Mira Mesa\n",
      "Miramar\n",
      "Miramar Ranch\n",
      "Mission Bay\n",
      "Mission Beach\n",
      "Mission Hills\n",
      "Mission Hills South\n",
      "Mission Valley West\n",
      "Morena\n",
      "Mount Hope\n",
      "Mountain View\n",
      "Nestor\n",
      "North Clairemont\n",
      "North Park\n",
      "Oak Park\n",
      "Ocean Beach\n",
      "Old Town San Diego\n",
      "Otay Mesa\n",
      "Otay Mesa West\n",
      "Pacific Beach\n",
      "Palm City\n",
      "Paradise Hills\n",
      "Petco Park\n",
      "Rancho Bernardo\n",
      "Rancho Penasquitos\n",
      "Rolando\n",
      "Rolando Park\n",
      "Sabre Springs\n"
     ]
    }
   ],
   "source": [
    "sd_venues = getNearbyVenues(names=sd_df['Neighborhoods'],\n",
    "                            latitudes=sd_df['Latitude'],\n",
    "                            longitudes=sd_df['Longitude'],\n",
    "                            radius=600\n",
    "                            )"
   ]
  },
  {
   "cell_type": "code",
   "execution_count": null,
   "metadata": {},
   "outputs": [],
   "source": [
    "sd_venues.head()"
   ]
  },
  {
   "cell_type": "code",
   "execution_count": null,
   "metadata": {},
   "outputs": [],
   "source": [
    "sd_venues.groupby('Neighborhoods').count()"
   ]
  },
  {
   "cell_type": "code",
   "execution_count": null,
   "metadata": {},
   "outputs": [],
   "source": [
    "len(sd_venues['Neighborhoods'].unique())"
   ]
  },
  {
   "cell_type": "markdown",
   "metadata": {},
   "source": [
    "#### Let's find out how many unique categories can be curated from all the returned venues"
   ]
  },
  {
   "cell_type": "code",
   "execution_count": null,
   "metadata": {
    "collapsed": false,
    "jupyter": {
     "outputs_hidden": false
    }
   },
   "outputs": [],
   "source": [
    "print('There are {} uniques categories.'.format(len(sd_venues['Venue Category'].unique())))"
   ]
  },
  {
   "cell_type": "markdown",
   "metadata": {},
   "source": [
    "<div id=\"id-section3\"> <font size=\"6\"><b>3. Analyze Each Neighborhood</b></font></div>"
   ]
  },
  {
   "cell_type": "code",
   "execution_count": null,
   "metadata": {
    "collapsed": false,
    "jupyter": {
     "outputs_hidden": false
    }
   },
   "outputs": [],
   "source": [
    "# one hot encoding\n",
    "sd_onehot = pd.get_dummies(sd_venues[['Venue Category']], prefix=\"\", prefix_sep=\"\")\n",
    "\n",
    "# add neighborhood column back to dataframe\n",
    "sd_onehot['Neighborhoods'] = sd_venues['Neighborhoods'] \n",
    "\n",
    "# move neighborhood column to the first column\n",
    "fixed_columns = [sd_onehot.columns[-1]] + list(sd_onehot.columns[:-1])\n",
    "sd_onehot = sd_onehot[fixed_columns]\n",
    "\n",
    "sd_onehot.head()"
   ]
  },
  {
   "cell_type": "code",
   "execution_count": null,
   "metadata": {},
   "outputs": [],
   "source": [
    "sd_onehot.shape"
   ]
  },
  {
   "cell_type": "markdown",
   "metadata": {},
   "source": [
    "#### Next, let's group rows by neighborhood and by taking the mean of the frequency of occurrence of each category"
   ]
  },
  {
   "cell_type": "code",
   "execution_count": null,
   "metadata": {
    "collapsed": false,
    "jupyter": {
     "outputs_hidden": false
    }
   },
   "outputs": [],
   "source": [
    "sd_grouped = sd_onehot.groupby('Neighborhoods').mean().reset_index()\n",
    "sd_grouped"
   ]
  },
  {
   "cell_type": "code",
   "execution_count": null,
   "metadata": {},
   "outputs": [],
   "source": [
    "sd_grouped['AverageRent']=sd_df['AverageRent']\n",
    "# move AverageRent column to the second column, method1\n",
    "avgrent = sd_grouped['AverageRent']\n",
    "sd_grouped.drop(labels=['AverageRent'], axis=1, inplace=True)\n",
    "sd_grouped.insert(1,'AverageRent',avgrent)\n",
    "# move AverageRent column to the second column, method2\n",
    "#fixed_columns = [sd_grouped.columns[0]] + [sd_grouped.columns[-1]] + list(sd_grouped.columns[2:-1])\n",
    "#sd_grouped = sd_grouped[fixed_columns]\n"
   ]
  },
  {
   "cell_type": "code",
   "execution_count": null,
   "metadata": {},
   "outputs": [],
   "source": [
    "print('Size of sd_grouped: ', sd_grouped.shape[0])\n",
    "sd_grouped.head()"
   ]
  },
  {
   "cell_type": "markdown",
   "metadata": {},
   "source": [
    "#### Let's print each neighborhood along with the top 10 most common venues"
   ]
  },
  {
   "cell_type": "code",
   "execution_count": null,
   "metadata": {
    "collapsed": false,
    "jupyter": {
     "outputs_hidden": false
    }
   },
   "outputs": [],
   "source": [
    "num_top_venues = 10\n",
    "\n",
    "for hood in sd_grouped['Neighborhoods']:\n",
    "    print(\"----\"+hood+\"----\")\n",
    "    temp = sd_grouped[sd_grouped['Neighborhoods'] == hood].T.reset_index()\n",
    "    temp.columns = ['venue','freq']\n",
    "    temp = temp.iloc[2:]\n",
    "    temp['freq'] = temp['freq'].astype(float)\n",
    "    temp = temp.round({'freq': 2})\n",
    "    print(temp.sort_values('freq', ascending=False).reset_index(drop=True).head(num_top_venues))\n",
    "    print('\\n')"
   ]
  },
  {
   "cell_type": "markdown",
   "metadata": {},
   "source": [
    "#### Let's put that into a *pandas* dataframe"
   ]
  },
  {
   "cell_type": "code",
   "execution_count": null,
   "metadata": {},
   "outputs": [],
   "source": [
    "def return_most_common_venues(row, num_top_venues):\n",
    "    row_categories = row.iloc[0:]\n",
    "    row_categories_sorted = row_categories.sort_values(ascending=False)\n",
    "    \n",
    "    return row_categories_sorted.index.values[0:num_top_venues]"
   ]
  },
  {
   "cell_type": "markdown",
   "metadata": {},
   "source": [
    "Now let's create the new dataframe and display the top 10 venues for each neighborhood."
   ]
  },
  {
   "cell_type": "code",
   "execution_count": null,
   "metadata": {
    "collapsed": false,
    "jupyter": {
     "outputs_hidden": false
    }
   },
   "outputs": [],
   "source": [
    "num_top_venues = 10\n",
    "\n",
    "indicators = ['st', 'nd', 'rd']\n",
    "\n",
    "# create columns according to number of top venues\n",
    "columns = ['Neighborhoods', 'AverageRent']\n",
    "for ind in np.arange(num_top_venues):\n",
    "    try:\n",
    "        columns.append('{}{} Most Common Venue'.format(ind+1, indicators[ind]))\n",
    "    except:\n",
    "        columns.append('{}th Most Common Venue'.format(ind+1))\n",
    "\n",
    "# create a new dataframe\n",
    "neighborhoods_venues_sorted = pd.DataFrame(columns=columns)\n",
    "neighborhoods_venues_sorted['Neighborhoods'] =sd_grouped['Neighborhoods']\n",
    "neighborhoods_venues_sorted['AverageRent'] =sd_grouped['AverageRent']\n",
    "\n",
    "for ind in np.arange(sd_grouped.shape[0]):\n",
    "    neighborhoods_venues_sorted.iloc[ind, 2:] = return_most_common_venues(sd_grouped.iloc[ind, 2:], num_top_venues)\n",
    "\n",
    "neighborhoods_venues_sorted.head()"
   ]
  },
  {
   "cell_type": "markdown",
   "metadata": {},
   "source": [
    "<div id=\"id-section4\"> <font size=\"6\"><b>4. Cluster Neighborhoods</b></font></div>"
   ]
  },
  {
   "cell_type": "markdown",
   "metadata": {},
   "source": [
    "<font>Find the optimal K with elbow method</font>"
   ]
  },
  {
   "cell_type": "code",
   "execution_count": null,
   "metadata": {
    "collapsed": false,
    "jupyter": {
     "outputs_hidden": false
    }
   },
   "outputs": [],
   "source": [
    "import matplotlib.pyplot as plt\n",
    "# set number of clusters\n",
    "K = 10\n",
    "inertias=[]\n",
    "sd_grouped_clustering = sd_grouped.drop('Neighborhoods', 1)\n",
    "\n",
    "for kclusters in range(1, K):\n",
    "    # run k-means clustering\n",
    "    kmeans = KMeans(init='k-means++', n_clusters=kclusters, random_state=0).fit(sd_grouped_clustering)\n",
    "    inertias.append(kmeans.inertia_)\n",
    "\n",
    "# plot the inertia against K values \n",
    "plt.plot(range(1, K),inertias, color ='g', linewidth ='3') \n",
    "plt.xlabel(\"Value of K\") \n",
    "plt.ylabel(\"Sqaured Error (Inertia)\") \n",
    "plt.show() # clear the plot     \n"
   ]
  },
  {
   "cell_type": "markdown",
   "metadata": {},
   "source": [
    "<font>Choose K value based on the above curve</font>"
   ]
  },
  {
   "cell_type": "code",
   "execution_count": null,
   "metadata": {
    "collapsed": false,
    "jupyter": {
     "outputs_hidden": false
    }
   },
   "outputs": [],
   "source": [
    "\n",
    "# set number of clusters\n",
    "K = 4\n",
    "# run k-means clustering\n",
    "kmeans = KMeans(init='k-means++', n_clusters=K, random_state=0).fit(sd_grouped_clustering)\n",
    "kmeans.labels_\n"
   ]
  },
  {
   "cell_type": "markdown",
   "metadata": {},
   "source": [
    "Let's create a new dataframe that includes the cluster, the top 10 venues, average rent, latitude and longitude for each neighborhood."
   ]
  },
  {
   "cell_type": "code",
   "execution_count": null,
   "metadata": {},
   "outputs": [],
   "source": [
    "sd_venues_ll = sd_venues.groupby(['Neighborhoods', 'Neighborhood Latitude', 'Neighborhood Longitude']).size()\n",
    "sd_venues_df = sd_venues_ll.to_frame().reset_index()\n",
    "sd_venues_df = sd_venues_df.iloc[:, :-1]\n",
    "sd_venues_df.head()"
   ]
  },
  {
   "cell_type": "code",
   "execution_count": null,
   "metadata": {},
   "outputs": [],
   "source": [
    "sd_venues_df.columns = ['Neighborhoods', 'Latitude', 'Longitude']"
   ]
  },
  {
   "cell_type": "code",
   "execution_count": null,
   "metadata": {},
   "outputs": [],
   "source": [
    "sd_venues_df.head()"
   ]
  },
  {
   "cell_type": "code",
   "execution_count": null,
   "metadata": {
    "collapsed": false,
    "jupyter": {
     "outputs_hidden": false
    }
   },
   "outputs": [],
   "source": [
    "# add clustering labels\n",
    "neighborhoods_venues_sorted.insert(0, 'Cluster Labels', kmeans.labels_)\n",
    "\n",
    "sd_merged = sd_venues_df\n",
    "\n",
    "# add latitude/longitude for each neighborhood\n",
    "sd_merged = sd_merged.join(neighborhoods_venues_sorted.set_index('Neighborhoods'), on='Neighborhoods')\n",
    "\n",
    "sd_merged.head() # check the last columns!"
   ]
  },
  {
   "cell_type": "markdown",
   "metadata": {},
   "source": [
    "Finally, let's visualize the resulting clusters in the map"
   ]
  },
  {
   "cell_type": "code",
   "execution_count": null,
   "metadata": {
    "collapsed": false,
    "jupyter": {
     "outputs_hidden": false
    }
   },
   "outputs": [],
   "source": [
    "# create map of San Diego using latitude and longitude values\n",
    "address = 'San Diego, CA'\n",
    "geolocator = Nominatim(user_agent='SD_explorer')\n",
    "location = geolocator.geocode(address)\n",
    "latitude = location.latitude\n",
    "longitude = location.longitude\n",
    "\n",
    "map_clusters = folium.Map(location=[latitude, longitude], zoom_start=11)\n",
    "\n",
    "# set color scheme for the clusters\n",
    "x = np.arange(kclusters)\n",
    "ys = [i + x + (i*x)**2 for i in range(kclusters)]\n",
    "colors_array = cm.rainbow(np.linspace(0, 1, len(ys)))\n",
    "rainbow = [colors.rgb2hex(i) for i in colors_array]\n",
    "\n",
    "# add markers to the map\n",
    "markers_colors = []\n",
    "for lat, lon, poi, cluster in zip(sd_merged['Latitude'], sd_merged['Longitude'], sd_merged['Neighborhoods'], sd_merged['Cluster Labels']):\n",
    "    label = folium.Popup(str(poi) + ' Cluster ' + str(cluster), parse_html=True)\n",
    "    folium.CircleMarker(\n",
    "        [lat, lon],\n",
    "        radius=5,\n",
    "        popup=label,\n",
    "        color=rainbow[cluster-1],\n",
    "        fill=True,\n",
    "        fill_color=rainbow[cluster-1],\n",
    "        fill_opacity=0.7).add_to(map_clusters)\n",
    "       \n",
    "map_clusters"
   ]
  },
  {
   "cell_type": "code",
   "execution_count": null,
   "metadata": {},
   "outputs": [],
   "source": [
    "sd_merged.head()"
   ]
  },
  {
   "cell_type": "markdown",
   "metadata": {},
   "source": [
    "<div id=\"id-section5\"> <font size=\"6\"><b>5. Examine the clusters</b></font></div>"
   ]
  },
  {
   "cell_type": "markdown",
   "metadata": {},
   "source": [
    "<font>Visualize the average rent of each cluster</font>"
   ]
  },
  {
   "cell_type": "code",
   "execution_count": null,
   "metadata": {},
   "outputs": [],
   "source": [
    "cluster_rent = sd_merged[['Cluster Labels', 'AverageRent']]\n",
    "mean_rent = cluster_rent.groupby('Cluster Labels').mean()\n",
    "print(\"Average Rent for each cluster: \\n \", mean_rent)\n"
   ]
  },
  {
   "cell_type": "code",
   "execution_count": null,
   "metadata": {},
   "outputs": [],
   "source": [
    "# generate bar chart\n",
    "\n",
    "mean_rent.plot(kind='bar', figsize=(5, 8))\n",
    "x1,x2,y1,y2=plt.axis()\n",
    "plt.axis([x1,x2,750,2500])\n",
    "plt.title('The Average Rent of Each Cluster')\n",
    "plt.ylabel('AverageRent')\n",
    "plt.xlabel('Cluster')\n",
    "\n",
    "plt.show()"
   ]
  },
  {
   "cell_type": "code",
   "execution_count": null,
   "metadata": {},
   "outputs": [],
   "source": [
    "mean_rent.reset_index(inplace=True)\n",
    "mean_rent"
   ]
  },
  {
   "cell_type": "markdown",
   "metadata": {},
   "source": [
    "<font size='4'>Get the statistics of each cluster including the 'top' venue in 1st, 2nd and 3rd most common venues. Create a new dataframe to store the top venues and average rent for each cluster</font>"
   ]
  },
  {
   "cell_type": "code",
   "execution_count": null,
   "metadata": {},
   "outputs": [],
   "source": [
    "column=['Cluster Lables','1st Most Common Venue', '2nd Most Common Venue', '3rd Most Common Venue']\n",
    "cluster_stat=pd.DataFrame(columns = column)"
   ]
  },
  {
   "cell_type": "markdown",
   "metadata": {},
   "source": [
    "<font>Manage Cluster 0</font>"
   ]
  },
  {
   "cell_type": "code",
   "execution_count": null,
   "metadata": {
    "collapsed": false,
    "jupyter": {
     "outputs_hidden": false
    }
   },
   "outputs": [],
   "source": [
    "cluster0_df = sd_merged.loc[sd_merged['Cluster Labels'] == 0, sd_merged.columns[list(range(5, sd_merged.shape[1]))]]\n",
    "cluster0_df"
   ]
  },
  {
   "cell_type": "code",
   "execution_count": null,
   "metadata": {},
   "outputs": [],
   "source": [
    "c0_stat=cluster0_df.describe().loc[['top']]"
   ]
  },
  {
   "cell_type": "code",
   "execution_count": null,
   "metadata": {},
   "outputs": [],
   "source": [
    "c0_stat.reset_index(inplace=True)\n",
    "c0_stat=c0_stat[['1st Most Common Venue', '2nd Most Common Venue', '3rd Most Common Venue']]"
   ]
  },
  {
   "cell_type": "code",
   "execution_count": null,
   "metadata": {},
   "outputs": [],
   "source": [
    "c0_stat.insert(loc=0, column='Cluster Labels', value = 0)\n",
    "c0_stat"
   ]
  },
  {
   "cell_type": "code",
   "execution_count": null,
   "metadata": {},
   "outputs": [],
   "source": [
    "cluster_stat=c0_stat\n",
    "cluster_stat"
   ]
  },
  {
   "cell_type": "code",
   "execution_count": null,
   "metadata": {},
   "outputs": [],
   "source": [
    "#cluster0_df.reset_index(inplace=True)\n",
    "#cluster0_df['1st Most Common Venue'].value_counts().head(3)"
   ]
  },
  {
   "cell_type": "markdown",
   "metadata": {},
   "source": [
    "<font>Manage Cluster 1</font>"
   ]
  },
  {
   "cell_type": "code",
   "execution_count": null,
   "metadata": {
    "collapsed": false,
    "jupyter": {
     "outputs_hidden": false
    }
   },
   "outputs": [],
   "source": [
    "cluster1_df=sd_merged.loc[sd_merged['Cluster Labels'] == 1, sd_merged.columns[list(range(5, sd_merged.shape[1]))]]"
   ]
  },
  {
   "cell_type": "code",
   "execution_count": null,
   "metadata": {},
   "outputs": [],
   "source": [
    "c1_stat=cluster1_df.describe().loc[['top']]"
   ]
  },
  {
   "cell_type": "code",
   "execution_count": null,
   "metadata": {},
   "outputs": [],
   "source": [
    "c1_stat.reset_index(inplace=True)\n",
    "c1_stat = c1_stat[['1st Most Common Venue', '2nd Most Common Venue', '3rd Most Common Venue']]\n"
   ]
  },
  {
   "cell_type": "code",
   "execution_count": null,
   "metadata": {},
   "outputs": [],
   "source": [
    "c1_stat.insert(loc=0, column='Cluster Labels', value = 1)\n",
    "c1_stat"
   ]
  },
  {
   "cell_type": "code",
   "execution_count": null,
   "metadata": {},
   "outputs": [],
   "source": [
    "#cluster1_df.reset_index(inplace=True)\n",
    "#cluster1_df[['1st Most Common Venue']].describe()"
   ]
  },
  {
   "cell_type": "code",
   "execution_count": null,
   "metadata": {},
   "outputs": [],
   "source": [
    "#cluster1_df['1st Most Common Venue'].value_counts().head(3)"
   ]
  },
  {
   "cell_type": "markdown",
   "metadata": {},
   "source": [
    "<font>Manage Cluster 2</font>"
   ]
  },
  {
   "cell_type": "code",
   "execution_count": null,
   "metadata": {
    "collapsed": false,
    "jupyter": {
     "outputs_hidden": false
    }
   },
   "outputs": [],
   "source": [
    "cluster2_df=sd_merged.loc[sd_merged['Cluster Labels'] == 2, sd_merged.columns[list(range(5, sd_merged.shape[1]))]]"
   ]
  },
  {
   "cell_type": "code",
   "execution_count": null,
   "metadata": {},
   "outputs": [],
   "source": [
    "c2_stat=cluster2_df.describe().loc[['top']]"
   ]
  },
  {
   "cell_type": "code",
   "execution_count": null,
   "metadata": {},
   "outputs": [],
   "source": [
    "c2_stat.reset_index(inplace=True)\n",
    "c2_stat=c2_stat[['1st Most Common Venue', '2nd Most Common Venue', '3rd Most Common Venue']]"
   ]
  },
  {
   "cell_type": "code",
   "execution_count": null,
   "metadata": {},
   "outputs": [],
   "source": [
    "c2_stat.insert(loc=0, column='Cluster Labels', value = 2)\n",
    "c2_stat"
   ]
  },
  {
   "cell_type": "code",
   "execution_count": null,
   "metadata": {},
   "outputs": [],
   "source": [
    "#cluster2_df.reset_index(inplace=True)\n",
    "#cluster2_df['1st Most Common Venue'].value_counts().head(3)"
   ]
  },
  {
   "cell_type": "markdown",
   "metadata": {},
   "source": [
    "<font>Manage Cluster 3</font>"
   ]
  },
  {
   "cell_type": "code",
   "execution_count": null,
   "metadata": {
    "collapsed": false,
    "jupyter": {
     "outputs_hidden": false
    }
   },
   "outputs": [],
   "source": [
    "cluster3_df=sd_merged.loc[sd_merged['Cluster Labels'] == 3, sd_merged.columns[list(range(5, sd_merged.shape[1]))]]"
   ]
  },
  {
   "cell_type": "code",
   "execution_count": null,
   "metadata": {},
   "outputs": [],
   "source": [
    "c3_stat=cluster3_df.describe().loc[['top']]"
   ]
  },
  {
   "cell_type": "code",
   "execution_count": null,
   "metadata": {},
   "outputs": [],
   "source": [
    "c3_stat.reset_index(inplace=True)\n",
    "c3_stat=c3_stat[['1st Most Common Venue', '2nd Most Common Venue', '3rd Most Common Venue']]"
   ]
  },
  {
   "cell_type": "code",
   "execution_count": null,
   "metadata": {},
   "outputs": [],
   "source": [
    "c3_stat.insert(loc=0, column='Cluster Labels', value = 3)\n",
    "c3_stat"
   ]
  },
  {
   "cell_type": "code",
   "execution_count": null,
   "metadata": {},
   "outputs": [],
   "source": [
    "#cluster3_df.reset_index(inplace=True)\n",
    "#cluster3_df[['1st Most Common Venue']].describe()"
   ]
  },
  {
   "cell_type": "code",
   "execution_count": null,
   "metadata": {},
   "outputs": [],
   "source": [
    "#cluster3_df['1st Most Common Venue'].value_counts().head(3)"
   ]
  },
  {
   "cell_type": "code",
   "execution_count": null,
   "metadata": {},
   "outputs": [],
   "source": [
    "cluster_stat = pd.concat([cluster_stat, c1_stat, c2_stat, c3_stat], ignore_index=True)"
   ]
  },
  {
   "cell_type": "code",
   "execution_count": null,
   "metadata": {},
   "outputs": [],
   "source": [
    "cluster_stat['AverageRent']=mean_rent['AverageRent']"
   ]
  },
  {
   "cell_type": "code",
   "execution_count": null,
   "metadata": {},
   "outputs": [],
   "source": [
    "cluster_stat"
   ]
  },
  {
   "cell_type": "markdown",
   "metadata": {},
   "source": [
    "<div id=\"id-section6\"> <font size=\"6\"><b>6. Discussion</b></font></div>"
   ]
  },
  {
   "cell_type": "markdown",
   "metadata": {},
   "source": [
    "<font size='4'>Based on the statistics of clusters, we can find that Cluster 2 might be a good option for a milk tea shop in San Diego considering the popular places and rental price there. If we had enough budget, Cluster 0 will also be a good area.</font>"
   ]
  },
  {
   "cell_type": "code",
   "execution_count": null,
   "metadata": {},
   "outputs": [],
   "source": []
  }
 ],
 "metadata": {
  "kernelspec": {
   "display_name": "Python",
   "language": "python",
   "name": "conda-env-python-py"
  },
  "language_info": {
   "codemirror_mode": {
    "name": "ipython",
    "version": 3
   },
   "file_extension": ".py",
   "mimetype": "text/x-python",
   "name": "python",
   "nbconvert_exporter": "python",
   "pygments_lexer": "ipython3",
   "version": "3.6.10"
  }
 },
 "nbformat": 4,
 "nbformat_minor": 4
}
