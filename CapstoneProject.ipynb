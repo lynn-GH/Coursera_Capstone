{
 "cells": [
  {
   "cell_type": "markdown",
   "metadata": {},
   "source": [
    "<h1 align=center><font size = 6>Coursera Capstone Project</font></h1>"
   ]
  },
  {
   "cell_type": "markdown",
   "metadata": {},
   "source": [
    "## Introduction\n",
    "<font color=blue>Besides coffee, milk tea becomes a popular beverage now. We plan to open a tea shop in San Diego, CA. There are many neighborhoods in San Diego city and the retail rental price varies among them.  So first we need to look for some neighborhoods already have good restaurants or cafes people like to go, second, the rental price should not be very high which might be over our budget.\n",
    "\n",
    "    In this project,\n",
    "        Step 1: Scrape San Diego neighborhoods and rental market data from website\n",
    "        Step 2: Obtain the geographical data of each neighborhood\n",
    "        Step 3: Get the popular venues with Foursquare API\n",
    "        Step 4: Use K-means to cluster the neighborhoods based on the venues and average rental price\n",
    "        Step 5: Provide a discussion based on the clustering results\n",
    "</font>"
   ]
  },
  {
   "cell_type": "markdown",
   "metadata": {},
   "source": [
    "## Table of Contents\n",
    "- [1. Download and Explore Dataset](#id-section1)\n",
    "- [2. Explore Neighborhoods in San Diego City](#id-section2)\n",
    "- [3. Analyze Each Neighborhood](#id-section3)\n",
    "- [4. Cluster Neighborhoods](#id-section4)\n",
    "- [5. Examine Clusters](#id-section5)\n",
    "- [6. Discussion](#id-section6)\n"
   ]
  },
  {
   "cell_type": "markdown",
   "metadata": {},
   "source": [
    "<div id=\"id-section1\"> <font size=\"6\"><b>1.Download and Explore Dataset</b></font></div>"
   ]
  },
  {
   "cell_type": "markdown",
   "metadata": {},
   "source": [
    "#### Scraping an html to get the list of neighborhoods and the average rental price in San Diego"
   ]
  },
  {
   "cell_type": "code",
   "execution_count": 1,
   "metadata": {},
   "outputs": [
    {
     "name": "stdout",
     "output_type": "stream",
     "text": [
      "Requirement already satisfied: BeautifulSoup4 in /home/jupyterlab/conda/envs/python/lib/python3.6/site-packages (4.9.1)\n",
      "Requirement already satisfied: soupsieve>1.2 in /home/jupyterlab/conda/envs/python/lib/python3.6/site-packages (from BeautifulSoup4) (2.0.1)\n",
      "Collecting package metadata (current_repodata.json): done\n",
      "Solving environment: done\n",
      "\n",
      "# All requested packages already installed.\n",
      "\n",
      "Libraries imported.\n"
     ]
    }
   ],
   "source": [
    "!pip install BeautifulSoup4\n",
    "from bs4 import BeautifulSoup\n",
    "import requests # library to handle requests\n",
    "import urllib.request\n",
    "\n",
    "import pandas as pd #library for data analysis\n",
    "import numpy as np # library to handle data in a vectorized manner\n",
    "\n",
    "pd.set_option('display.max_columns', None)\n",
    "pd.set_option('display.max_rows', None)\n",
    "\n",
    "import json # library to handle JSON files\n",
    "from pandas.io.json import json_normalize # tranform JSON file into a pandas dataframe\n",
    "\n",
    "!conda install -c conda-forge geopy --yes # uncomment this line if you haven't completed the Foursquare API lab\n",
    "from geopy.geocoders import Nominatim # convert an address into latitude and longitude values\n",
    "\n",
    "# Matplotlib and associated plotting modules\n",
    "import matplotlib.pyplot as plt\n",
    "import matplotlib.cm as cm\n",
    "import matplotlib.colors as colors\n",
    "\n",
    "# import k-means from clustering stage\n",
    "from sklearn.cluster import KMeans\n",
    "\n",
    "#!conda install -c conda-forge folium=0.5.0 --yes # uncomment this line if you haven't completed the Foursquare API lab\n",
    "import folium # map rendering library\n",
    "\n",
    "print('Libraries imported.')"
   ]
  },
  {
   "cell_type": "code",
   "execution_count": 2,
   "metadata": {},
   "outputs": [],
   "source": [
    "# I don't use this website anymore, but another having Average Rent prices of each neighborhood in San Diego\n",
    "# url = 'https://en.wikipedia.org/wiki/List_of_communities_and_neighborhoods_of_San_Diego'\n",
    "# response = requests.get(url)\n",
    "# soup = BeautifulSoup(response.content, 'html.parser')\n",
    "# div = soup.find(\"div\", {\"aria-labelledby\":\"Neighborhoods_of_San_Diego\"})\n",
    "# results = [li.text for li in div.findAll('li')]"
   ]
  },
  {
   "cell_type": "code",
   "execution_count": 3,
   "metadata": {},
   "outputs": [],
   "source": [
    "url = 'https://www.rentcafe.com/average-rent-market-trends/us/ca/san-diego/'\n",
    "response = requests.get(url)\n",
    "soup = BeautifulSoup(response.content, 'html.parser')\n",
    "div = soup.find(\"div\", {\"class\":\"table-neighborhood\"})"
   ]
  },
  {
   "cell_type": "code",
   "execution_count": 4,
   "metadata": {},
   "outputs": [],
   "source": [
    "column_names = ['Neighborhoods','AverageRent']\n",
    "df = pd.DataFrame(columns = column_names)"
   ]
  },
  {
   "cell_type": "code",
   "execution_count": 5,
   "metadata": {},
   "outputs": [],
   "source": [
    "table = div.find(\"table\", {\"id\":\"MarketTrendsAverageRentTable\"})\n",
    "row = table.findAll(\"tr\", {\"class\":\"current-row\"})\n",
    "row_marker = 0\n",
    "for row in table.findAll(\"tr\", {\"class\":\"current-row\"}):\n",
    "    df.at[row_marker, 'Neighborhoods'] = row.find('th').text\n",
    "    df.at[row_marker, 'AverageRent'] = row.find('td').text\n",
    "    row_marker += 1"
   ]
  },
  {
   "cell_type": "code",
   "execution_count": 6,
   "metadata": {},
   "outputs": [],
   "source": [
    "df['AverageRent']=df['AverageRent'].map(lambda x: x.lstrip('$'))\n",
    "df['AverageRent']=df['AverageRent'].str.replace(',','')\n",
    "df['AverageRent']=pd.to_numeric(df['AverageRent'], downcast='float')"
   ]
  },
  {
   "cell_type": "code",
   "execution_count": 7,
   "metadata": {},
   "outputs": [],
   "source": [
    "df.loc[df['Neighborhoods'] == 'Clairemont Mesa West', ['Neighborhoods']] = 'Clairemont Mesa'"
   ]
  },
  {
   "cell_type": "code",
   "execution_count": 8,
   "metadata": {},
   "outputs": [],
   "source": [
    "df.sort_values(by='Neighborhoods',inplace=True)"
   ]
  },
  {
   "cell_type": "code",
   "execution_count": 9,
   "metadata": {},
   "outputs": [],
   "source": [
    "sd_df = df.reset_index(drop=True)"
   ]
  },
  {
   "cell_type": "code",
   "execution_count": 10,
   "metadata": {},
   "outputs": [
    {
     "name": "stdout",
     "output_type": "stream",
     "text": [
      "There are 122 neighborhoods in San Diego\n"
     ]
    }
   ],
   "source": [
    "print(\"There are \" + str(sd_df.shape[0]) + \" neighborhoods in San Diego\")"
   ]
  },
  {
   "cell_type": "code",
   "execution_count": 11,
   "metadata": {},
   "outputs": [],
   "source": [
    "#add two columns for Latitude and Longitude\n",
    "sd_df['Latitude']=''\n",
    "sd_df['Longitude']=''"
   ]
  },
  {
   "cell_type": "code",
   "execution_count": 12,
   "metadata": {},
   "outputs": [
    {
     "data": {
      "text/html": [
       "<div>\n",
       "<style scoped>\n",
       "    .dataframe tbody tr th:only-of-type {\n",
       "        vertical-align: middle;\n",
       "    }\n",
       "\n",
       "    .dataframe tbody tr th {\n",
       "        vertical-align: top;\n",
       "    }\n",
       "\n",
       "    .dataframe thead th {\n",
       "        text-align: right;\n",
       "    }\n",
       "</style>\n",
       "<table border=\"1\" class=\"dataframe\">\n",
       "  <thead>\n",
       "    <tr style=\"text-align: right;\">\n",
       "      <th></th>\n",
       "      <th>Neighborhoods</th>\n",
       "      <th>AverageRent</th>\n",
       "      <th>Latitude</th>\n",
       "      <th>Longitude</th>\n",
       "    </tr>\n",
       "  </thead>\n",
       "  <tbody>\n",
       "    <tr>\n",
       "      <th>0</th>\n",
       "      <td>4S Ranch</td>\n",
       "      <td>2261.0</td>\n",
       "      <td></td>\n",
       "      <td></td>\n",
       "    </tr>\n",
       "    <tr>\n",
       "      <th>1</th>\n",
       "      <td>Allied Gardens</td>\n",
       "      <td>2105.0</td>\n",
       "      <td></td>\n",
       "      <td></td>\n",
       "    </tr>\n",
       "    <tr>\n",
       "      <th>2</th>\n",
       "      <td>Alta Vista</td>\n",
       "      <td>975.0</td>\n",
       "      <td></td>\n",
       "      <td></td>\n",
       "    </tr>\n",
       "    <tr>\n",
       "      <th>3</th>\n",
       "      <td>Alvarado Estates</td>\n",
       "      <td>1946.0</td>\n",
       "      <td></td>\n",
       "      <td></td>\n",
       "    </tr>\n",
       "    <tr>\n",
       "      <th>4</th>\n",
       "      <td>Azalea - Hollywood Park</td>\n",
       "      <td>1619.0</td>\n",
       "      <td></td>\n",
       "      <td></td>\n",
       "    </tr>\n",
       "  </tbody>\n",
       "</table>\n",
       "</div>"
      ],
      "text/plain": [
       "             Neighborhoods  AverageRent Latitude Longitude\n",
       "0                 4S Ranch       2261.0                   \n",
       "1           Allied Gardens       2105.0                   \n",
       "2               Alta Vista        975.0                   \n",
       "3         Alvarado Estates       1946.0                   \n",
       "4  Azalea - Hollywood Park       1619.0                   "
      ]
     },
     "execution_count": 12,
     "metadata": {},
     "output_type": "execute_result"
    }
   ],
   "source": [
    "sd_df.head()"
   ]
  },
  {
   "cell_type": "code",
   "execution_count": 13,
   "metadata": {},
   "outputs": [],
   "source": [
    "#geocoder.google doesn't work, no return\n",
    "#!pip install geocoder\n",
    "#import geocoder\n",
    "#lat_lng_coords = None\n",
    "#while (lat_lng_coords is None):\n",
    "#    g = geocoder.google('San Diego, CA')\n",
    "#    lat_lng_coords = g.latlng\n",
    "\n",
    "#latitude=lat_lng_coords[0]\n",
    "#longitude=lat_lng_coords[1]"
   ]
  },
  {
   "cell_type": "code",
   "execution_count": 14,
   "metadata": {},
   "outputs": [],
   "source": [
    "suffix = ', San Diego, CA'\n",
    "row_marker = 0\n",
    "for nghb in sd_df['Neighborhoods']:\n",
    "    address = nghb + suffix\n",
    "    geolocator = Nominatim(user_agent='SD_explorer')\n",
    "    location = geolocator.geocode(address)\n",
    "    if location != None:\n",
    "        sd_df.at[row_marker, 'Latitude'] = location.latitude\n",
    "        sd_df.at[row_marker, 'Longitude'] = location.longitude\n",
    "    else:\n",
    "        sd_df.at[row_marker, 'Latitude'] = None\n",
    "        sd_df.at[row_marker, 'Longitude'] = None\n",
    "    row_marker += 1\n"
   ]
  },
  {
   "cell_type": "code",
   "execution_count": 15,
   "metadata": {},
   "outputs": [
    {
     "data": {
      "text/plain": [
       "Neighborhoods     object\n",
       "AverageRent      float32\n",
       "Latitude         float32\n",
       "Longitude        float32\n",
       "dtype: object"
      ]
     },
     "execution_count": 15,
     "metadata": {},
     "output_type": "execute_result"
    }
   ],
   "source": [
    "sd_df['Latitude']=pd.to_numeric(sd_df['Latitude'], downcast='float')\n",
    "sd_df['Longitude']=pd.to_numeric(sd_df['Longitude'], downcast='float')\n",
    "sd_df.dtypes"
   ]
  },
  {
   "cell_type": "code",
   "execution_count": 16,
   "metadata": {},
   "outputs": [
    {
     "name": "stdout",
     "output_type": "stream",
     "text": [
      "There are 25 neighborhoods without Latitude and Longitude value returned\n"
     ]
    }
   ],
   "source": [
    "nan_returns = sd_df['Latitude'].isnull().sum(axis = 0)\n",
    "print(\"There are {} neighborhoods without Latitude and Longitude value returned\".format(nan_returns))"
   ]
  },
  {
   "cell_type": "code",
   "execution_count": 17,
   "metadata": {},
   "outputs": [
    {
     "data": {
      "text/html": [
       "<div>\n",
       "<style scoped>\n",
       "    .dataframe tbody tr th:only-of-type {\n",
       "        vertical-align: middle;\n",
       "    }\n",
       "\n",
       "    .dataframe tbody tr th {\n",
       "        vertical-align: top;\n",
       "    }\n",
       "\n",
       "    .dataframe thead th {\n",
       "        text-align: right;\n",
       "    }\n",
       "</style>\n",
       "<table border=\"1\" class=\"dataframe\">\n",
       "  <thead>\n",
       "    <tr style=\"text-align: right;\">\n",
       "      <th></th>\n",
       "      <th>Neighborhoods</th>\n",
       "      <th>AverageRent</th>\n",
       "      <th>Latitude</th>\n",
       "      <th>Longitude</th>\n",
       "    </tr>\n",
       "  </thead>\n",
       "  <tbody>\n",
       "    <tr>\n",
       "      <th>0</th>\n",
       "      <td>4S Ranch</td>\n",
       "      <td>2261.0</td>\n",
       "      <td>NaN</td>\n",
       "      <td>NaN</td>\n",
       "    </tr>\n",
       "    <tr>\n",
       "      <th>1</th>\n",
       "      <td>Allied Gardens</td>\n",
       "      <td>2105.0</td>\n",
       "      <td>32.792686</td>\n",
       "      <td>-117.080437</td>\n",
       "    </tr>\n",
       "    <tr>\n",
       "      <th>2</th>\n",
       "      <td>Alta Vista</td>\n",
       "      <td>975.0</td>\n",
       "      <td>32.693340</td>\n",
       "      <td>-117.063156</td>\n",
       "    </tr>\n",
       "    <tr>\n",
       "      <th>3</th>\n",
       "      <td>Alvarado Estates</td>\n",
       "      <td>1946.0</td>\n",
       "      <td>32.774399</td>\n",
       "      <td>-117.091347</td>\n",
       "    </tr>\n",
       "    <tr>\n",
       "      <th>4</th>\n",
       "      <td>Azalea - Hollywood Park</td>\n",
       "      <td>1619.0</td>\n",
       "      <td>33.368637</td>\n",
       "      <td>-117.175911</td>\n",
       "    </tr>\n",
       "  </tbody>\n",
       "</table>\n",
       "</div>"
      ],
      "text/plain": [
       "             Neighborhoods  AverageRent   Latitude   Longitude\n",
       "0                 4S Ranch       2261.0        NaN         NaN\n",
       "1           Allied Gardens       2105.0  32.792686 -117.080437\n",
       "2               Alta Vista        975.0  32.693340 -117.063156\n",
       "3         Alvarado Estates       1946.0  32.774399 -117.091347\n",
       "4  Azalea - Hollywood Park       1619.0  33.368637 -117.175911"
      ]
     },
     "execution_count": 17,
     "metadata": {},
     "output_type": "execute_result"
    }
   ],
   "source": [
    "sd_df.head()"
   ]
  },
  {
   "cell_type": "markdown",
   "metadata": {},
   "source": [
    "<font>Not all neighborhoods' geographical parameters can be obtained, so I will try different name for those neighborhoods and delete those that I can't get the latitude and longitude at the end</font>"
   ]
  },
  {
   "cell_type": "code",
   "execution_count": 18,
   "metadata": {},
   "outputs": [
    {
     "data": {
      "text/plain": [
       "(97, 4)"
      ]
     },
     "execution_count": 18,
     "metadata": {},
     "output_type": "execute_result"
    }
   ],
   "source": [
    "#drop the neighborhoods without latitude and longitude\n",
    "sd_df=sd_df.dropna()\n",
    "sd_df=sd_df.reset_index(drop=True)\n",
    "sd_df.shape"
   ]
  },
  {
   "cell_type": "code",
   "execution_count": 19,
   "metadata": {},
   "outputs": [],
   "source": [
    "#sd_df.loc[sd_df['Neighborhood'] == 'Clairemont Mesa']"
   ]
  },
  {
   "cell_type": "markdown",
   "metadata": {},
   "source": [
    "<font>Till now, I already have the clean dataset for exploring and cluster later.</font>"
   ]
  },
  {
   "cell_type": "markdown",
   "metadata": {},
   "source": [
    "#### Create a map of San Diego with neighborhoods superimposed on top."
   ]
  },
  {
   "cell_type": "code",
   "execution_count": 20,
   "metadata": {
    "collapsed": false,
    "jupyter": {
     "outputs_hidden": false
    }
   },
   "outputs": [
    {
     "data": {
      "text/html": [
       "<div style=\"width:100%;\"><div style=\"position:relative;width:100%;height:0;padding-bottom:60%;\"><span style=\"color:#565656\">Make this Notebook Trusted to load map: File -> Trust Notebook</span><iframe src=\"about:blank\" style=\"position:absolute;width:100%;height:100%;left:0;top:0;border:none !important;\" data-html=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 onload=\"this.contentDocument.open();this.contentDocument.write(atob(this.getAttribute('data-html')));this.contentDocument.close();\" allowfullscreen webkitallowfullscreen mozallowfullscreen></iframe></div></div>"
      ],
      "text/plain": [
       "<folium.folium.Map at 0x7f9a3354cef0>"
      ]
     },
     "execution_count": 20,
     "metadata": {},
     "output_type": "execute_result"
    }
   ],
   "source": [
    "# create map of San Diego using latitude and longitude values\n",
    "address = 'San Diego, CA'\n",
    "geolocator = Nominatim(user_agent='SD_explorer')\n",
    "location = geolocator.geocode(address)\n",
    "latitude = location.latitude\n",
    "longitude = location.longitude\n",
    "\n",
    "map_sandiego = folium.Map(location=[latitude, longitude], zoom_start=10)\n",
    "\n",
    "# add markers to map\n",
    "for lat, lng, nghbd in zip(sd_df['Latitude'], sd_df['Longitude'], sd_df['Neighborhoods']):\n",
    "    label = '{}'.format(nghbd)\n",
    "    label = folium.Popup(label, parse_html=True)\n",
    "    folium.CircleMarker(\n",
    "        [lat, lng],\n",
    "        radius=3,\n",
    "        popup=label,\n",
    "        color='blue',\n",
    "        fill=True,\n",
    "        fill_color='#3186cc',\n",
    "        fill_opacity=0.7,\n",
    "        parse_html=False).add_to(map_sandiego)  \n",
    "    \n",
    "map_sandiego"
   ]
  },
  {
   "cell_type": "markdown",
   "metadata": {},
   "source": [
    "<div id=\"id-section2\"> <font size=\"6\"><b>2. Explore Neighborhoods in San Diego</b></font></div>"
   ]
  },
  {
   "cell_type": "markdown",
   "metadata": {},
   "source": [
    "#### Define Foursquare Credentials and Version"
   ]
  },
  {
   "cell_type": "code",
   "execution_count": 21,
   "metadata": {
    "collapsed": false,
    "jupyter": {
     "outputs_hidden": false
    }
   },
   "outputs": [
    {
     "name": "stdout",
     "output_type": "stream",
     "text": [
      "Your credentails:\n",
      "CLIENT_ID: SCIUXMLEPZJKICI1VOHG3TKUYIHTGO13DUBN3HB1NQIT40MH\n",
      "CLIENT_SECRET:5GEFSDBCOLVV2ZETXFOTAY5M4AHMBPFV0CINCL1HJ5MP1XL4\n"
     ]
    }
   ],
   "source": [
    "CLIENT_ID = 'SCIUXMLEPZJKICI1VOHG3TKUYIHTGO13DUBN3HB1NQIT40MH' # your Foursquare ID\n",
    "CLIENT_SECRET = '5GEFSDBCOLVV2ZETXFOTAY5M4AHMBPFV0CINCL1HJ5MP1XL4' # your Foursquare Secret\n",
    "VERSION = '20200625' # Foursquare API version\n",
    "\n",
    "print('Your credentails:')\n",
    "print('CLIENT_ID: ' + CLIENT_ID)\n",
    "print('CLIENT_SECRET:' + CLIENT_SECRET)"
   ]
  },
  {
   "cell_type": "markdown",
   "metadata": {},
   "source": [
    "#### Create a function to repeat the same process to all the neighborhoods in San Diego"
   ]
  },
  {
   "cell_type": "code",
   "execution_count": 22,
   "metadata": {},
   "outputs": [],
   "source": [
    "def getNearbyVenues(names, latitudes, longitudes, radius):\n",
    "    LIMIT = 100\n",
    "    venues_list = []\n",
    "    for name, lat, lng in zip(names, latitudes, longitudes):\n",
    "        print(name)\n",
    "            \n",
    "        # create the API request URL\n",
    "        url = 'https://api.foursquare.com/v2/venues/explore?&client_id={}&client_secret={}&v={}&ll={},{}&radius={}&limit={}'.format(\n",
    "            CLIENT_ID, \n",
    "            CLIENT_SECRET, \n",
    "            VERSION, \n",
    "            lat, \n",
    "            lng, \n",
    "            radius, \n",
    "            LIMIT)\n",
    "            \n",
    "        # make the GET request\n",
    "        results = requests.get(url).json()[\"response\"]['groups'][0]['items']\n",
    "               \n",
    "        # return only relevant information for each nearby venue\n",
    "        venues_list.append([(\n",
    "            name, \n",
    "            lat, \n",
    "            lng, \n",
    "            v['venue']['name'], \n",
    "            v['venue']['location']['lat'], \n",
    "            v['venue']['location']['lng'],  \n",
    "            v['venue']['categories'][0]['name']) for v in results])\n",
    "        \n",
    "\n",
    "    nearby_venues = pd.DataFrame([item for venue_list in venues_list for item in venue_list])\n",
    "    nearby_venues.columns = ['Neighborhoods', \n",
    "                  'Neighborhood Latitude', \n",
    "                  'Neighborhood Longitude', \n",
    "                  'Venue', \n",
    "                  'Venue Latitude', \n",
    "                  'Venue Longitude', \n",
    "                  'Venue Category']\n",
    "    \n",
    "    return(nearby_venues)"
   ]
  },
  {
   "cell_type": "markdown",
   "metadata": {},
   "source": [
    "#### Now run the above function on each neighborhood and create a new dataframe called *sd_venues*."
   ]
  },
  {
   "cell_type": "code",
   "execution_count": null,
   "metadata": {
    "collapsed": false,
    "jupyter": {
     "outputs_hidden": false
    },
    "scrolled": true
   },
   "outputs": [
    {
     "name": "stdout",
     "output_type": "stream",
     "text": [
      "Allied Gardens\n",
      "Alta Vista\n",
      "Alvarado Estates\n",
      "Azalea - Hollywood Park\n",
      "Balboa Park\n",
      "Bankers Hill - Park West\n",
      "Barrio Logan\n",
      "Bay Park\n",
      "Bay Terraces\n",
      "Birdland\n",
      "Black Mountain Ranch\n",
      "Broadway Heights\n",
      "Burlingame\n",
      "Carmel Mountain\n",
      "Carmel Valley\n",
      "Castle\n",
      "Cherokee Point\n",
      "Chollas Creek\n",
      "Chollas View\n",
      "Clairemont Mesa\n",
      "Corridor\n",
      "Cortez\n",
      "Del Cerro\n",
      "East Village\n",
      "El Cerrito\n",
      "Emerald Hills\n",
      "Encanto\n",
      "Fairmount Village\n",
      "Fleet Ridge\n",
      "Fox Canyon\n",
      "Gaslamp\n",
      "Golden Hill\n",
      "Grant Hill\n",
      "Grantville\n",
      "Harborview\n",
      "Hillcrest\n",
      "Horton Plaza\n",
      "Islenair\n",
      "Jamacha Lomita\n",
      "Kearny Mesa\n",
      "La Playa\n",
      "Lincoln Park\n",
      "Linda Vista\n",
      "Little Italy\n",
      "Logan Heights\n",
      "Loma Portal\n",
      "Marina\n",
      "Midway\n",
      "Mira Mesa\n",
      "Miramar\n",
      "Miramar Ranch\n",
      "Mission Bay\n",
      "Mission Beach\n",
      "Mission Hills\n",
      "Mission Hills South\n",
      "Mission Valley West\n",
      "Morena\n",
      "Mount Hope\n",
      "Mountain View\n",
      "Nestor\n",
      "North Clairemont\n",
      "North Park\n",
      "Oak Park\n",
      "Ocean Beach\n",
      "Old Town San Diego\n",
      "Otay Mesa\n",
      "Otay Mesa West\n",
      "Pacific Beach\n",
      "Palm City\n",
      "Paradise Hills\n",
      "Petco Park\n",
      "Rancho Bernardo\n",
      "Rancho Penasquitos\n",
      "Rolando\n",
      "Rolando Park\n",
      "Sabre Springs\n",
      "San Carlos\n",
      "Santa Fe Valley\n",
      "Scripps Ranch\n",
      "Serra Mesa\n",
      "Shelltown\n"
     ]
    }
   ],
   "source": [
    "sd_venues = getNearbyVenues(names=sd_df['Neighborhoods'],\n",
    "                            latitudes=sd_df['Latitude'],\n",
    "                            longitudes=sd_df['Longitude'],\n",
    "                            radius=600\n",
    "                            )"
   ]
  },
  {
   "cell_type": "code",
   "execution_count": null,
   "metadata": {},
   "outputs": [],
   "source": [
    "sd_venues.head()"
   ]
  },
  {
   "cell_type": "code",
   "execution_count": null,
   "metadata": {},
   "outputs": [],
   "source": [
    "sd_venues.groupby('Neighborhoods').count()"
   ]
  },
  {
   "cell_type": "code",
   "execution_count": null,
   "metadata": {},
   "outputs": [],
   "source": [
    "len(sd_venues['Neighborhoods'].unique())"
   ]
  },
  {
   "cell_type": "markdown",
   "metadata": {},
   "source": [
    "#### Let's find out how many unique categories can be curated from all the returned venues"
   ]
  },
  {
   "cell_type": "code",
   "execution_count": null,
   "metadata": {
    "collapsed": false,
    "jupyter": {
     "outputs_hidden": false
    }
   },
   "outputs": [],
   "source": [
    "print('There are {} uniques categories.'.format(len(sd_venues['Venue Category'].unique())))"
   ]
  },
  {
   "cell_type": "markdown",
   "metadata": {},
   "source": [
    "<div id=\"id-section3\"> <font size=\"6\"><b>3. Analyze Each Neighborhood</b></font></div>"
   ]
  },
  {
   "cell_type": "code",
   "execution_count": null,
   "metadata": {
    "collapsed": false,
    "jupyter": {
     "outputs_hidden": false
    }
   },
   "outputs": [],
   "source": [
    "# one hot encoding\n",
    "sd_onehot = pd.get_dummies(sd_venues[['Venue Category']], prefix=\"\", prefix_sep=\"\")\n",
    "\n",
    "# add neighborhood column back to dataframe\n",
    "sd_onehot['Neighborhoods'] = sd_venues['Neighborhoods'] \n",
    "\n",
    "# move neighborhood column to the first column\n",
    "fixed_columns = [sd_onehot.columns[-1]] + list(sd_onehot.columns[:-1])\n",
    "sd_onehot = sd_onehot[fixed_columns]\n",
    "\n",
    "sd_onehot.head()"
   ]
  },
  {
   "cell_type": "code",
   "execution_count": null,
   "metadata": {},
   "outputs": [],
   "source": [
    "sd_onehot.shape"
   ]
  },
  {
   "cell_type": "markdown",
   "metadata": {},
   "source": [
    "#### Next, let's group rows by neighborhood and by taking the mean of the frequency of occurrence of each category"
   ]
  },
  {
   "cell_type": "code",
   "execution_count": null,
   "metadata": {
    "collapsed": false,
    "jupyter": {
     "outputs_hidden": false
    }
   },
   "outputs": [],
   "source": [
    "sd_grouped = sd_onehot.groupby('Neighborhoods').mean().reset_index()\n",
    "sd_grouped"
   ]
  },
  {
   "cell_type": "code",
   "execution_count": null,
   "metadata": {},
   "outputs": [],
   "source": [
    "sd_grouped['AverageRent']=sd_df['AverageRent']\n",
    "# move AverageRent column to the second column, method1\n",
    "avgrent = sd_grouped['AverageRent']\n",
    "sd_grouped.drop(labels=['AverageRent'], axis=1, inplace=True)\n",
    "sd_grouped.insert(1,'AverageRent',avgrent)\n",
    "# move AverageRent column to the second column, method2\n",
    "#fixed_columns = [sd_grouped.columns[0]] + [sd_grouped.columns[-1]] + list(sd_grouped.columns[2:-1])\n",
    "#sd_grouped = sd_grouped[fixed_columns]\n"
   ]
  },
  {
   "cell_type": "code",
   "execution_count": null,
   "metadata": {},
   "outputs": [],
   "source": [
    "print('Size of sd_grouped: ', sd_grouped.shape[0])\n",
    "sd_grouped.head()"
   ]
  },
  {
   "cell_type": "markdown",
   "metadata": {},
   "source": [
    "#### Let's print each neighborhood along with the top 10 most common venues"
   ]
  },
  {
   "cell_type": "code",
   "execution_count": null,
   "metadata": {
    "collapsed": false,
    "jupyter": {
     "outputs_hidden": false
    }
   },
   "outputs": [],
   "source": [
    "num_top_venues = 10\n",
    "\n",
    "for hood in sd_grouped['Neighborhoods']:\n",
    "    print(\"----\"+hood+\"----\")\n",
    "    temp = sd_grouped[sd_grouped['Neighborhoods'] == hood].T.reset_index()\n",
    "    temp.columns = ['venue','freq']\n",
    "    temp = temp.iloc[2:]\n",
    "    temp['freq'] = temp['freq'].astype(float)\n",
    "    temp = temp.round({'freq': 2})\n",
    "    print(temp.sort_values('freq', ascending=False).reset_index(drop=True).head(num_top_venues))\n",
    "    print('\\n')"
   ]
  },
  {
   "cell_type": "markdown",
   "metadata": {},
   "source": [
    "#### Let's put that into a *pandas* dataframe"
   ]
  },
  {
   "cell_type": "code",
   "execution_count": null,
   "metadata": {},
   "outputs": [],
   "source": [
    "def return_most_common_venues(row, num_top_venues):\n",
    "    row_categories = row.iloc[0:]\n",
    "    row_categories_sorted = row_categories.sort_values(ascending=False)\n",
    "    \n",
    "    return row_categories_sorted.index.values[0:num_top_venues]"
   ]
  },
  {
   "cell_type": "markdown",
   "metadata": {},
   "source": [
    "Now let's create the new dataframe and display the top 10 venues for each neighborhood."
   ]
  },
  {
   "cell_type": "code",
   "execution_count": null,
   "metadata": {
    "collapsed": false,
    "jupyter": {
     "outputs_hidden": false
    }
   },
   "outputs": [],
   "source": [
    "num_top_venues = 10\n",
    "\n",
    "indicators = ['st', 'nd', 'rd']\n",
    "\n",
    "# create columns according to number of top venues\n",
    "columns = ['Neighborhoods', 'AverageRent']\n",
    "for ind in np.arange(num_top_venues):\n",
    "    try:\n",
    "        columns.append('{}{} Most Common Venue'.format(ind+1, indicators[ind]))\n",
    "    except:\n",
    "        columns.append('{}th Most Common Venue'.format(ind+1))\n",
    "\n",
    "# create a new dataframe\n",
    "neighborhoods_venues_sorted = pd.DataFrame(columns=columns)\n",
    "neighborhoods_venues_sorted['Neighborhoods'] =sd_grouped['Neighborhoods']\n",
    "neighborhoods_venues_sorted['AverageRent'] =sd_grouped['AverageRent']\n",
    "\n",
    "for ind in np.arange(sd_grouped.shape[0]):\n",
    "    neighborhoods_venues_sorted.iloc[ind, 2:] = return_most_common_venues(sd_grouped.iloc[ind, 2:], num_top_venues)\n",
    "\n",
    "neighborhoods_venues_sorted.head()"
   ]
  },
  {
   "cell_type": "markdown",
   "metadata": {},
   "source": [
    "<div id=\"id-section4\"> <font size=\"6\"><b>4. Cluster Neighborhoods</b></font></div>"
   ]
  },
  {
   "cell_type": "markdown",
   "metadata": {},
   "source": [
    "<font>Find the optimal K with elbow method</font>"
   ]
  },
  {
   "cell_type": "code",
   "execution_count": null,
   "metadata": {
    "collapsed": false,
    "jupyter": {
     "outputs_hidden": false
    }
   },
   "outputs": [],
   "source": [
    "import matplotlib.pyplot as plt\n",
    "# set number of clusters\n",
    "K = 10\n",
    "inertias=[]\n",
    "sd_grouped_clustering = sd_grouped.drop('Neighborhoods', 1)\n",
    "\n",
    "for kclusters in range(1, K):\n",
    "    # run k-means clustering\n",
    "    kmeans = KMeans(init='k-means++', n_clusters=kclusters, random_state=0).fit(sd_grouped_clustering)\n",
    "    inertias.append(kmeans.inertia_)\n",
    "\n",
    "# plot the inertia against K values \n",
    "plt.plot(range(1, K),inertias, color ='g', linewidth ='3') \n",
    "plt.xlabel(\"Value of K\") \n",
    "plt.ylabel(\"Sqaured Error (Inertia)\") \n",
    "plt.show() # clear the plot     \n"
   ]
  },
  {
   "cell_type": "markdown",
   "metadata": {},
   "source": [
    "<font>Choose K value based on the above curve</font>"
   ]
  },
  {
   "cell_type": "code",
   "execution_count": null,
   "metadata": {
    "collapsed": false,
    "jupyter": {
     "outputs_hidden": false
    }
   },
   "outputs": [],
   "source": [
    "\n",
    "# set number of clusters\n",
    "K = 4\n",
    "# run k-means clustering\n",
    "kmeans = KMeans(init='k-means++', n_clusters=K, random_state=0).fit(sd_grouped_clustering)\n",
    "kmeans.labels_\n"
   ]
  },
  {
   "cell_type": "markdown",
   "metadata": {},
   "source": [
    "Let's create a new dataframe that includes the cluster, the top 10 venues, average rent, latitude and longitude for each neighborhood."
   ]
  },
  {
   "cell_type": "code",
   "execution_count": null,
   "metadata": {},
   "outputs": [],
   "source": [
    "sd_venues_ll = sd_venues.groupby(['Neighborhoods', 'Neighborhood Latitude', 'Neighborhood Longitude']).size()\n",
    "sd_venues_df = sd_venues_ll.to_frame().reset_index()\n",
    "sd_venues_df = sd_venues_df.iloc[:, :-1]\n",
    "sd_venues_df.head()"
   ]
  },
  {
   "cell_type": "code",
   "execution_count": null,
   "metadata": {},
   "outputs": [],
   "source": [
    "sd_venues_df.columns = ['Neighborhoods', 'Latitude', 'Longitude']"
   ]
  },
  {
   "cell_type": "code",
   "execution_count": null,
   "metadata": {},
   "outputs": [],
   "source": [
    "sd_venues_df.head()"
   ]
  },
  {
   "cell_type": "code",
   "execution_count": null,
   "metadata": {
    "collapsed": false,
    "jupyter": {
     "outputs_hidden": false
    }
   },
   "outputs": [],
   "source": [
    "# add clustering labels\n",
    "neighborhoods_venues_sorted.insert(0, 'Cluster Labels', kmeans.labels_)\n",
    "\n",
    "sd_merged = sd_venues_df\n",
    "\n",
    "# add latitude/longitude for each neighborhood\n",
    "sd_merged = sd_merged.join(neighborhoods_venues_sorted.set_index('Neighborhoods'), on='Neighborhoods')\n",
    "\n",
    "sd_merged.head() # check the last columns!"
   ]
  },
  {
   "cell_type": "markdown",
   "metadata": {},
   "source": [
    "Finally, let's visualize the resulting clusters in the map"
   ]
  },
  {
   "cell_type": "code",
   "execution_count": null,
   "metadata": {
    "collapsed": false,
    "jupyter": {
     "outputs_hidden": false
    }
   },
   "outputs": [],
   "source": [
    "# create map of San Diego using latitude and longitude values\n",
    "address = 'San Diego, CA'\n",
    "geolocator = Nominatim(user_agent='SD_explorer')\n",
    "location = geolocator.geocode(address)\n",
    "latitude = location.latitude\n",
    "longitude = location.longitude\n",
    "\n",
    "map_clusters = folium.Map(location=[latitude, longitude], zoom_start=11)\n",
    "\n",
    "# set color scheme for the clusters\n",
    "x = np.arange(kclusters)\n",
    "ys = [i + x + (i*x)**2 for i in range(kclusters)]\n",
    "colors_array = cm.rainbow(np.linspace(0, 1, len(ys)))\n",
    "rainbow = [colors.rgb2hex(i) for i in colors_array]\n",
    "\n",
    "# add markers to the map\n",
    "markers_colors = []\n",
    "for lat, lon, poi, cluster in zip(sd_merged['Latitude'], sd_merged['Longitude'], sd_merged['Neighborhoods'], sd_merged['Cluster Labels']):\n",
    "    label = folium.Popup(str(poi) + ' Cluster ' + str(cluster), parse_html=True)\n",
    "    folium.CircleMarker(\n",
    "        [lat, lon],\n",
    "        radius=5,\n",
    "        popup=label,\n",
    "        color=rainbow[cluster-1],\n",
    "        fill=True,\n",
    "        fill_color=rainbow[cluster-1],\n",
    "        fill_opacity=0.7).add_to(map_clusters)\n",
    "       \n",
    "map_clusters"
   ]
  },
  {
   "cell_type": "code",
   "execution_count": null,
   "metadata": {},
   "outputs": [],
   "source": [
    "sd_merged.head()"
   ]
  },
  {
   "cell_type": "markdown",
   "metadata": {},
   "source": [
    "<div id=\"id-section5\"> <font size=\"6\"><b>5. Examine the clusters</b></font></div>"
   ]
  },
  {
   "cell_type": "markdown",
   "metadata": {},
   "source": [
    "<font>Visualize the average rent of each cluster</font>"
   ]
  },
  {
   "cell_type": "code",
   "execution_count": null,
   "metadata": {},
   "outputs": [],
   "source": [
    "cluster_rent = sd_merged[['Cluster Labels', 'AverageRent']]\n",
    "mean_rent = cluster_rent.groupby('Cluster Labels').mean()\n",
    "print(\"Average Rent for each cluster: \\n \", mean_rent)\n"
   ]
  },
  {
   "cell_type": "code",
   "execution_count": null,
   "metadata": {},
   "outputs": [],
   "source": [
    "# generate bar chart\n",
    "\n",
    "mean_rent.plot(kind='bar', figsize=(5, 8))\n",
    "x1,x2,y1,y2=plt.axis()\n",
    "plt.axis([x1,x2,750,2500])\n",
    "plt.title('The Average Rent of Each Cluster')\n",
    "plt.ylabel('AverageRent')\n",
    "plt.xlabel('Cluster')\n",
    "\n",
    "plt.show()"
   ]
  },
  {
   "cell_type": "code",
   "execution_count": null,
   "metadata": {},
   "outputs": [],
   "source": [
    "mean_rent.reset_index(inplace=True)\n",
    "mean_rent"
   ]
  },
  {
   "cell_type": "markdown",
   "metadata": {},
   "source": [
    "<font size='4'>Get the statistics of each cluster including the 'top' venue in 1st, 2nd and 3rd most common venues. Create a new dataframe to store the top venues and average rent for each cluster</font>"
   ]
  },
  {
   "cell_type": "code",
   "execution_count": null,
   "metadata": {},
   "outputs": [],
   "source": [
    "column=['Cluster Lables','1st Most Common Venue', '2nd Most Common Venue', '3rd Most Common Venue']\n",
    "cluster_stat=pd.DataFrame(columns = column)"
   ]
  },
  {
   "cell_type": "markdown",
   "metadata": {},
   "source": [
    "<font>Manage Cluster 0</font>"
   ]
  },
  {
   "cell_type": "code",
   "execution_count": null,
   "metadata": {
    "collapsed": false,
    "jupyter": {
     "outputs_hidden": false
    }
   },
   "outputs": [],
   "source": [
    "cluster0_df = sd_merged.loc[sd_merged['Cluster Labels'] == 0, sd_merged.columns[list(range(5, sd_merged.shape[1]))]]\n",
    "cluster0_df"
   ]
  },
  {
   "cell_type": "code",
   "execution_count": null,
   "metadata": {},
   "outputs": [],
   "source": [
    "c0_stat=cluster0_df.describe().loc[['top']]"
   ]
  },
  {
   "cell_type": "code",
   "execution_count": null,
   "metadata": {},
   "outputs": [],
   "source": [
    "c0_stat.reset_index(inplace=True)\n",
    "c0_stat=c0_stat[['1st Most Common Venue', '2nd Most Common Venue', '3rd Most Common Venue']]"
   ]
  },
  {
   "cell_type": "code",
   "execution_count": null,
   "metadata": {},
   "outputs": [],
   "source": [
    "c0_stat.insert(loc=0, column='Cluster Labels', value = 0)\n",
    "c0_stat"
   ]
  },
  {
   "cell_type": "code",
   "execution_count": null,
   "metadata": {},
   "outputs": [],
   "source": [
    "cluster_stat=c0_stat\n",
    "cluster_stat"
   ]
  },
  {
   "cell_type": "code",
   "execution_count": null,
   "metadata": {},
   "outputs": [],
   "source": [
    "#cluster0_df.reset_index(inplace=True)\n",
    "#cluster0_df['1st Most Common Venue'].value_counts().head(3)"
   ]
  },
  {
   "cell_type": "markdown",
   "metadata": {},
   "source": [
    "<font>Manage Cluster 1</font>"
   ]
  },
  {
   "cell_type": "code",
   "execution_count": null,
   "metadata": {
    "collapsed": false,
    "jupyter": {
     "outputs_hidden": false
    }
   },
   "outputs": [],
   "source": [
    "cluster1_df=sd_merged.loc[sd_merged['Cluster Labels'] == 1, sd_merged.columns[list(range(5, sd_merged.shape[1]))]]"
   ]
  },
  {
   "cell_type": "code",
   "execution_count": null,
   "metadata": {},
   "outputs": [],
   "source": [
    "c1_stat=cluster1_df.describe().loc[['top']]"
   ]
  },
  {
   "cell_type": "code",
   "execution_count": null,
   "metadata": {},
   "outputs": [],
   "source": [
    "c1_stat.reset_index(inplace=True)\n",
    "c1_stat = c1_stat[['1st Most Common Venue', '2nd Most Common Venue', '3rd Most Common Venue']]\n"
   ]
  },
  {
   "cell_type": "code",
   "execution_count": null,
   "metadata": {},
   "outputs": [],
   "source": [
    "c1_stat.insert(loc=0, column='Cluster Labels', value = 1)\n",
    "c1_stat"
   ]
  },
  {
   "cell_type": "code",
   "execution_count": null,
   "metadata": {},
   "outputs": [],
   "source": [
    "#cluster1_df.reset_index(inplace=True)\n",
    "#cluster1_df[['1st Most Common Venue']].describe()"
   ]
  },
  {
   "cell_type": "code",
   "execution_count": null,
   "metadata": {},
   "outputs": [],
   "source": [
    "#cluster1_df['1st Most Common Venue'].value_counts().head(3)"
   ]
  },
  {
   "cell_type": "markdown",
   "metadata": {},
   "source": [
    "<font>Manage Cluster 2</font>"
   ]
  },
  {
   "cell_type": "code",
   "execution_count": null,
   "metadata": {
    "collapsed": false,
    "jupyter": {
     "outputs_hidden": false
    }
   },
   "outputs": [],
   "source": [
    "cluster2_df=sd_merged.loc[sd_merged['Cluster Labels'] == 2, sd_merged.columns[list(range(5, sd_merged.shape[1]))]]"
   ]
  },
  {
   "cell_type": "code",
   "execution_count": null,
   "metadata": {},
   "outputs": [],
   "source": [
    "c2_stat=cluster2_df.describe().loc[['top']]"
   ]
  },
  {
   "cell_type": "code",
   "execution_count": null,
   "metadata": {},
   "outputs": [],
   "source": [
    "c2_stat.reset_index(inplace=True)\n",
    "c2_stat=c2_stat[['1st Most Common Venue', '2nd Most Common Venue', '3rd Most Common Venue']]"
   ]
  },
  {
   "cell_type": "code",
   "execution_count": null,
   "metadata": {},
   "outputs": [],
   "source": [
    "c2_stat.insert(loc=0, column='Cluster Labels', value = 2)\n",
    "c2_stat"
   ]
  },
  {
   "cell_type": "code",
   "execution_count": null,
   "metadata": {},
   "outputs": [],
   "source": [
    "#cluster2_df.reset_index(inplace=True)\n",
    "#cluster2_df['1st Most Common Venue'].value_counts().head(3)"
   ]
  },
  {
   "cell_type": "markdown",
   "metadata": {},
   "source": [
    "<font>Manage Cluster 3</font>"
   ]
  },
  {
   "cell_type": "code",
   "execution_count": null,
   "metadata": {
    "collapsed": false,
    "jupyter": {
     "outputs_hidden": false
    }
   },
   "outputs": [],
   "source": [
    "cluster3_df=sd_merged.loc[sd_merged['Cluster Labels'] == 3, sd_merged.columns[list(range(5, sd_merged.shape[1]))]]"
   ]
  },
  {
   "cell_type": "code",
   "execution_count": null,
   "metadata": {},
   "outputs": [],
   "source": [
    "c3_stat=cluster3_df.describe().loc[['top']]"
   ]
  },
  {
   "cell_type": "code",
   "execution_count": null,
   "metadata": {},
   "outputs": [],
   "source": [
    "c3_stat.reset_index(inplace=True)\n",
    "c3_stat=c3_stat[['1st Most Common Venue', '2nd Most Common Venue', '3rd Most Common Venue']]"
   ]
  },
  {
   "cell_type": "code",
   "execution_count": null,
   "metadata": {},
   "outputs": [],
   "source": [
    "c3_stat.insert(loc=0, column='Cluster Labels', value = 3)\n",
    "c3_stat"
   ]
  },
  {
   "cell_type": "code",
   "execution_count": null,
   "metadata": {},
   "outputs": [],
   "source": [
    "#cluster3_df.reset_index(inplace=True)\n",
    "#cluster3_df[['1st Most Common Venue']].describe()"
   ]
  },
  {
   "cell_type": "code",
   "execution_count": null,
   "metadata": {},
   "outputs": [],
   "source": [
    "#cluster3_df['1st Most Common Venue'].value_counts().head(3)"
   ]
  },
  {
   "cell_type": "code",
   "execution_count": null,
   "metadata": {},
   "outputs": [],
   "source": [
    "cluster_stat = pd.concat([cluster_stat, c1_stat, c2_stat, c3_stat], ignore_index=True)"
   ]
  },
  {
   "cell_type": "code",
   "execution_count": null,
   "metadata": {},
   "outputs": [],
   "source": [
    "cluster_stat['AverageRent']=mean_rent['AverageRent']"
   ]
  },
  {
   "cell_type": "code",
   "execution_count": null,
   "metadata": {},
   "outputs": [],
   "source": [
    "cluster_stat"
   ]
  },
  {
   "cell_type": "markdown",
   "metadata": {},
   "source": [
    "<div id=\"id-section6\"> <font size=\"6\"><b>6. Discussion</b></font></div>"
   ]
  },
  {
   "cell_type": "markdown",
   "metadata": {},
   "source": [
    "<font size='4'>Based on the statistics of clusters, we can find that Cluster 2 might be a good option for a milk tea shop in San Diego considering the popular places and rental price there. If we had enough budget, Cluster 0 will also be a good area.</font>"
   ]
  },
  {
   "cell_type": "code",
   "execution_count": null,
   "metadata": {},
   "outputs": [],
   "source": []
  }
 ],
 "metadata": {
  "kernelspec": {
   "display_name": "Python",
   "language": "python",
   "name": "conda-env-python-py"
  },
  "language_info": {
   "codemirror_mode": {
    "name": "ipython",
    "version": 3
   },
   "file_extension": ".py",
   "mimetype": "text/x-python",
   "name": "python",
   "nbconvert_exporter": "python",
   "pygments_lexer": "ipython3",
   "version": "3.6.10"
  }
 },
 "nbformat": 4,
 "nbformat_minor": 4
}
